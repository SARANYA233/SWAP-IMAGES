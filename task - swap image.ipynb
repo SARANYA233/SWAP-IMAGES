{
 "cells": [
  {
   "cell_type": "code",
   "execution_count": 1,
   "metadata": {},
   "outputs": [],
   "source": [
    "import cv2\n",
    "import numpy as np"
   ]
  },
  {
   "cell_type": "code",
   "execution_count": 2,
   "metadata": {},
   "outputs": [],
   "source": [
    "# loads an image from the specified file\n",
    "\n",
    "img1 = cv2.imread(\"wom.jpg\")\n",
    "img2 = cv2.imread(\"man.jpg\")"
   ]
  },
  {
   "cell_type": "code",
   "execution_count": 3,
   "metadata": {},
   "outputs": [
    {
     "data": {
      "text/plain": [
       "(417, 626, 3)"
      ]
     },
     "execution_count": 3,
     "metadata": {},
     "output_type": "execute_result"
    }
   ],
   "source": [
    "# To get the dimension : img1\n",
    "\n",
    "img1.shape"
   ]
  },
  {
   "cell_type": "code",
   "execution_count": 4,
   "metadata": {},
   "outputs": [
    {
     "data": {
      "text/plain": [
       "(417, 626, 3)"
      ]
     },
     "execution_count": 4,
     "metadata": {},
     "output_type": "execute_result"
    }
   ],
   "source": [
    "# To get the dimension : img2\n",
    "\n",
    "img2.shape"
   ]
  },
  {
   "cell_type": "code",
   "execution_count": 5,
   "metadata": {},
   "outputs": [],
   "source": [
    "# Load the pretrained models : frontal face(here)\n",
    "\n",
    "model = cv2.CascadeClassifier('FR.xml')"
   ]
  },
  {
   "cell_type": "code",
   "execution_count": 6,
   "metadata": {},
   "outputs": [
    {
     "data": {
      "text/plain": [
       "array([[226,  65, 138, 138],\n",
       "       [246, 182, 110, 110]], dtype=int32)"
      ]
     },
     "execution_count": 6,
     "metadata": {},
     "output_type": "execute_result"
    }
   ],
   "source": [
    "# Pass the image and detect face : img1\n",
    "\n",
    "model.detectMultiScale(img1)"
   ]
  },
  {
   "cell_type": "code",
   "execution_count": 7,
   "metadata": {},
   "outputs": [
    {
     "data": {
      "text/plain": [
       "array([[254,  74, 107, 107]], dtype=int32)"
      ]
     },
     "execution_count": 7,
     "metadata": {},
     "output_type": "execute_result"
    }
   ],
   "source": [
    "# Pass the image and detect face : img1\n",
    "\n",
    "model.detectMultiScale(img2)"
   ]
  },
  {
   "cell_type": "code",
   "execution_count": null,
   "metadata": {},
   "outputs": [],
   "source": [
    "# To see detectection : draw rectangle\n",
    "\n",
    "face1 = cv2.rectangle(img1 , (226,65) , (364,203) , [255,255,255], 0)"
   ]
  },
  {
   "cell_type": "code",
   "execution_count": null,
   "metadata": {},
   "outputs": [],
   "source": [
    "face2 = cv2.rectangle(img2 , (254,74) , (361 , 181) , [255,255,255], 0)"
   ]
  },
  {
   "cell_type": "code",
   "execution_count": null,
   "metadata": {},
   "outputs": [],
   "source": [
    "# Add an image in the window : display\n",
    "\n",
    "cv2.imshow(\"face1\", face1)\n",
    "cv2.imshow(\"face2\", face2)\n",
    "\n",
    "# wait for a specific time in milliseconds \n",
    "\n",
    "cv2.waitKey(0)\n",
    "\n",
    "# Destroys the window showing image\n",
    "\n",
    "cv2.destroyAllWindows() "
   ]
  },
  {
   "cell_type": "code",
   "execution_count": null,
   "metadata": {},
   "outputs": [],
   "source": [
    "# Swapping the faces of two images\n",
    "\n",
    "swap1 = img1[65 : 203 , 226 : 364]\n",
    "img2[65 : 203 , 226 : 364] = swap1\n",
    "\n",
    "cv2.imshow(\"swap1\", img2)\n",
    "\n",
    "cv2.waitKey(0)\n",
    "cv2.destroyAllWindows()"
   ]
  },
  {
   "cell_type": "code",
   "execution_count": null,
   "metadata": {},
   "outputs": [],
   "source": [
    "swap2 = img2[74:181 , 254:361]\n",
    "img1[74:181 , 254:361] = swap2\n",
    "\n",
    "cv2.imshow(\"swap2\", img1)\n",
    "\n",
    "cv2.waitKey(0)\n",
    "cv2.destroyAllWindows()"
   ]
  }
 ],
 "metadata": {
  "kernelspec": {
   "display_name": "Python 3",
   "language": "python",
   "name": "python3"
  },
  "language_info": {
   "codemirror_mode": {
    "name": "ipython",
    "version": 3
   },
   "file_extension": ".py",
   "mimetype": "text/x-python",
   "name": "python",
   "nbconvert_exporter": "python",
   "pygments_lexer": "ipython3",
   "version": "3.8.3"
  }
 },
 "nbformat": 4,
 "nbformat_minor": 4
}
